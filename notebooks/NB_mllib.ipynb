{
 "cells": [
  {
   "cell_type": "code",
   "execution_count": 1,
   "metadata": {},
   "outputs": [],
   "source": [
    "import pyspark\n",
    "import numpy as np\n",
    "from pyspark.ml.feature import CountVectorizer, IDF, Tokenizer, HashingTF\n",
    "import os\n",
    "from pyspark.sql.session import SparkSession\n",
    "from pyspark.ml.feature import Tokenizer, HashingTF, IDF, StopWordsRemover, NGram, Word2Vec\n",
    "from pyspark.ml.classification import NaiveBayes, NaiveBayesModel, RandomForestClassifier\n",
    "from pyspark.ml import Pipeline, PipelineModel\n",
    "from pyspark.ml.evaluation import MulticlassClassificationEvaluator\n",
    "from pyspark.ml.feature import IndexToString, StringIndexer, VectorIndexer"
   ]
  },
  {
   "cell_type": "code",
   "execution_count": 2,
   "metadata": {},
   "outputs": [],
   "source": [
    "def spark_session_setup():\n",
    "    \"\"\"\n",
    "    creates a spark context\n",
    "    >>> sc = spark_session_setup()\n",
    "    \"\"\"\n",
    "\n",
    "    # in order to be bale to change log level\n",
    "    conf = pyspark.SparkConf()\n",
    "    conf.set('spark.logConf', 'true')\n",
    "    conf.set('spark.executor.memory', '4G')\n",
    "    conf.set('spark.driver.memory', '4G')\n",
    "#     conf.set('spark.driver.maxResultSize', '10G')\n",
    "\n",
    "    # create a spark session\n",
    "    sc = pyspark.SparkContext(appName='word_count', conf=conf)\n",
    "\n",
    "    # change log level to ERROR\n",
    "    sc.setLogLevel(\"ERROR\")\n",
    "    return sc\n",
    "\n",
    "sc = spark_session_setup()"
   ]
  },
  {
   "cell_type": "code",
   "execution_count": 3,
   "metadata": {},
   "outputs": [],
   "source": [
    "# path = \"../dataset/data/bytes_original//\"\n",
    "# new_path = \"../dataset/data/bytes/\"\n",
    "# files = os.listdir(path)\n",
    "# for f in files:\n",
    "#     with open(new_path + f, 'w') as outfile:\n",
    "#         with open(path + f) as fp:\n",
    "#             for line in fp:\n",
    "#                 content = line.strip().split(' ')[1:]\n",
    "#                 if '??' not in content or len(set(content)) != 1:\n",
    "#                     outfile.write(' '.join(content) + ' ')"
   ]
  },
  {
   "cell_type": "code",
   "execution_count": 4,
   "metadata": {},
   "outputs": [],
   "source": [
    "train_files = open('../dataset/files/X_small_train.txt').read().split('\\n')\n",
    "train_labels = open('../dataset/files/y_small_train.txt').read().split('\\n')\n",
    "train_dict = {}\n",
    "for filename, label in zip(train_files, train_labels):\n",
    "    train_dict[filename] = label\n",
    "\n",
    "broadcast_train_dict = sc.broadcast(train_dict)"
   ]
  },
  {
   "cell_type": "code",
   "execution_count": 5,
   "metadata": {},
   "outputs": [],
   "source": [
    "test_files = open('../dataset/files/X_small_test.txt').read().split('\\n')\n",
    "test_labels = open('../dataset/files/y_small_test.txt').read().split('\\n')\n",
    "test_dict = {}\n",
    "for filename, label in zip(test_files, test_labels):\n",
    "    test_dict[filename] = label\n",
    "\n",
    "broadcast_test_dict = sc.broadcast(test_dict)"
   ]
  },
  {
   "cell_type": "code",
   "execution_count": 6,
   "metadata": {},
   "outputs": [],
   "source": [
    "def pre_process(x):\n",
    "    fname = x[0].split('/')[-1][:-6]\n",
    "    if fname in broadcast_train_dict.value:\n",
    "        label = int(broadcast_train_dict.value[fname])\n",
    "        words = x[1]\n",
    "        return (fname, words, label)\n",
    "    elif fname in broadcast_test_dict.value:\n",
    "        label = int(broadcast_test_dict.value[fname])\n",
    "        words = x[1]\n",
    "        return (fname, words, label)"
   ]
  },
  {
   "cell_type": "code",
   "execution_count": 7,
   "metadata": {},
   "outputs": [],
   "source": [
    "spark = SparkSession(sc)"
   ]
  },
  {
   "cell_type": "code",
   "execution_count": 8,
   "metadata": {},
   "outputs": [],
   "source": [
    "data = sc.wholeTextFiles('../dataset/data/bytes') #sys.argv[1]\n",
    "fp = open('../dataset/files/X_small_train.txt')\n",
    "train_names = fp.read().split()\n",
    "file_path = 'file:' + os.path.realpath('../dataset/data/bytes') + '/' #sys.argv[1]\n",
    "for i in range(len(train_names)):\n",
    "    train_names[i] = file_path + train_names[i] + '.bytes'\n",
    "train_names = sc.broadcast(train_names)\n",
    "\n",
    "fp = open('../dataset/files/y_small_train.txt')\n",
    "train_labels = sc.broadcast(fp.read().split())"
   ]
  },
  {
   "cell_type": "code",
   "execution_count": 9,
   "metadata": {},
   "outputs": [],
   "source": [
    "fp = open('../dataset/files/X_small_test.txt')\n",
    "test_names = fp.read().split()\n",
    "file_path = 'file:' + os.path.realpath('../dataset/data/bytes') + '/' #sys.argv[1]\n",
    "for i in range(len(test_names)):\n",
    "    test_names[i] = file_path + test_names[i] + '.bytes'\n",
    "test_names = sc.broadcast(test_names)\n",
    "\n",
    "#Testing Labels\n",
    "fp = open('../dataset/files/y_small_test.txt')\n",
    "test_labels = sc.broadcast(fp.read().split())"
   ]
  },
  {
   "cell_type": "code",
   "execution_count": 10,
   "metadata": {},
   "outputs": [],
   "source": [
    "train_data = data.filter(lambda x: x[0] in train_names.value).map(pre_process)\n",
    "train_df = train_data.toDF(['id', 'text', 'label'])"
   ]
  },
  {
   "cell_type": "code",
   "execution_count": 11,
   "metadata": {},
   "outputs": [],
   "source": [
    "test_data = data.filter(lambda x: x[0] in test_names.value).map(pre_process)\n",
    "test_df = test_data.toDF(['id', 'text', 'label'])"
   ]
  },
  {
   "cell_type": "code",
   "execution_count": 12,
   "metadata": {},
   "outputs": [],
   "source": [
    "tokenizer = Tokenizer(inputCol=\"text\", outputCol=\"words\")\n",
    "ngram = NGram(n=2, inputCol='words', outputCol='ngrams')\n",
    "# ngram2 = NGram(n=3, inputCol='ngrams', outputCol='ngrams2')\n",
    "indexer = StringIndexer(inputCol=\"ngrams\", outputCol=\"features\")\n",
    "# hashingTF = HashingTF(inputCol=\"ngrams2\", outputCol=\"features\")\n",
    "# word2vec = Word2Vec(inputCol='ngrams', outputCol='features')\n",
    "nb = NaiveBayes(smoothing=1)\n",
    "rf = RandomForestClassifier(maxDepth=30, numTrees=70)"
   ]
  },
  {
   "cell_type": "code",
   "execution_count": 13,
   "metadata": {},
   "outputs": [],
   "source": [
    "pipeline = Pipeline(stages=[tokenizer, ngram, indexer, rf])"
   ]
  },
  {
   "cell_type": "code",
   "execution_count": 14,
   "metadata": {},
   "outputs": [],
   "source": [
    "model = pipeline.fit(train_df)"
   ]
  },
  {
   "cell_type": "code",
   "execution_count": 15,
   "metadata": {},
   "outputs": [],
   "source": [
    "model.save('../saved_models/my_rf_2_3_gram')"
   ]
  },
  {
   "cell_type": "code",
   "execution_count": 16,
   "metadata": {},
   "outputs": [],
   "source": [
    "# sameModel = PipelineModel.load(\"../saved_models/my_nb/\")"
   ]
  },
  {
   "cell_type": "code",
   "execution_count": 17,
   "metadata": {},
   "outputs": [],
   "source": [
    "prediction = model.transform(test_df)"
   ]
  },
  {
   "cell_type": "code",
   "execution_count": 18,
   "metadata": {},
   "outputs": [],
   "source": [
    "evaluator = MulticlassClassificationEvaluator(labelCol=\"label\", predictionCol=\"prediction\",\n",
    "                                              metricName=\"accuracy\")"
   ]
  },
  {
   "cell_type": "code",
   "execution_count": 19,
   "metadata": {},
   "outputs": [
    {
     "name": "stdout",
     "output_type": "stream",
     "text": [
      "Test set accuracy = 0.8402366863905325\n"
     ]
    }
   ],
   "source": [
    "accuracy = evaluator.evaluate(prediction)\n",
    "print(\"Test set accuracy = \" + str(accuracy))"
   ]
  },
  {
   "cell_type": "code",
   "execution_count": null,
   "metadata": {},
   "outputs": [],
   "source": []
  }
 ],
 "metadata": {
  "kernelspec": {
   "display_name": "Python 3",
   "language": "python",
   "name": "python3"
  },
  "language_info": {
   "codemirror_mode": {
    "name": "ipython",
    "version": 3
   },
   "file_extension": ".py",
   "mimetype": "text/x-python",
   "name": "python",
   "nbconvert_exporter": "python",
   "pygments_lexer": "ipython3",
   "version": "3.7.2"
  }
 },
 "nbformat": 4,
 "nbformat_minor": 2
}
