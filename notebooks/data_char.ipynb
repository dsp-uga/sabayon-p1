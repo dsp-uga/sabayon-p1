{
 "cells": [
  {
   "cell_type": "code",
   "execution_count": 1,
   "metadata": {},
   "outputs": [],
   "source": [
    "import os"
   ]
  },
  {
   "cell_type": "markdown",
   "metadata": {},
   "source": [
    "- there are large blocks of \"??\" tokens.\n",
    "- removing them saves a lot of space"
   ]
  },
  {
   "cell_type": "code",
   "execution_count": 2,
   "metadata": {},
   "outputs": [],
   "source": [
    "path = \"../dataset/data/test/\"\n",
    "new_path = \"../dataset/data/test_trimmed/\"\n",
    "if not os.path.exists(new_path):\n",
    "    os.makedirs(new_path)\n",
    "files = os.listdir(path)\n",
    "for f in files:\n",
    "    with open(new_path + f, 'w') as outfile:\n",
    "        with open(path + f) as fp:\n",
    "            for line in fp:\n",
    "                content = line.strip().split(' ')[1:]\n",
    "                if '??' not in content or len(set(content)) != 1:\n",
    "                    outfile.write(' '.join(content) + '\\n')"
   ]
  },
  {
   "cell_type": "code",
   "execution_count": null,
   "metadata": {},
   "outputs": [],
   "source": []
  }
 ],
 "metadata": {
  "kernelspec": {
   "display_name": "Python 3",
   "language": "python",
   "name": "python3"
  },
  "language_info": {
   "codemirror_mode": {
    "name": "ipython",
    "version": 3
   },
   "file_extension": ".py",
   "mimetype": "text/x-python",
   "name": "python",
   "nbconvert_exporter": "python",
   "pygments_lexer": "ipython3",
   "version": "3.7.2"
  }
 },
 "nbformat": 4,
 "nbformat_minor": 2
}
